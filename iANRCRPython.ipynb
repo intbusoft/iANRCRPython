{
  "nbformat": 4,
  "nbformat_minor": 0,
  "metadata": {
    "colab": {
      "provenance": [],
      "authorship_tag": "ABX9TyOQME2EJjBz9yCzQL9DJh3s",
      "include_colab_link": true
    },
    "kernelspec": {
      "name": "python3",
      "display_name": "Python 3"
    },
    "language_info": {
      "name": "python"
    },
    "accelerator": "GPU",
    "gpuClass": "standard"
  },
  "cells": [
    {
      "cell_type": "markdown",
      "metadata": {
        "id": "view-in-github",
        "colab_type": "text"
      },
      "source": [
        "<a href=\"https://colab.research.google.com/github/intbusoft/iANRCRPython/blob/main/iANRCRPython.ipynb\" target=\"_parent\"><img src=\"https://colab.research.google.com/assets/colab-badge.svg\" alt=\"Open In Colab\"/></a>"
      ]
    },
    {
      "cell_type": "markdown",
      "source": [
        "iANRCRPython - пакет для распознавания номеров жд вагонов\n",
        "\n",
        "**Установка:**"
      ],
      "metadata": {
        "id": "s0W5S-a74Vd0"
      }
    },
    {
      "cell_type": "code",
      "source": [
        "!git clone https://github.com/intbusoft/iANRCRPython.git"
      ],
      "metadata": {
        "colab": {
          "base_uri": "https://localhost:8080/"
        },
        "id": "34ecQa154UG9",
        "outputId": "01b3360d-65a8-4429-9e28-582a0b8bd613"
      },
      "execution_count": 1,
      "outputs": [
        {
          "output_type": "stream",
          "name": "stdout",
          "text": [
            "Cloning into 'iANRCRPython'...\n",
            "remote: Enumerating objects: 21, done.\u001b[K\n",
            "remote: Counting objects: 100% (3/3), done.\u001b[K\n",
            "remote: Compressing objects: 100% (2/2), done.\u001b[K\n",
            "remote: Total 21 (delta 0), reused 3 (delta 0), pack-reused 18\u001b[K\n",
            "Unpacking objects: 100% (21/21), 44.70 MiB | 7.42 MiB/s, done.\n"
          ]
        }
      ]
    },
    {
      "cell_type": "markdown",
      "source": [
        "Переход в нужную директорию:"
      ],
      "metadata": {
        "id": "1kevjK5B4zs0"
      }
    },
    {
      "cell_type": "code",
      "source": [
        "%cd iANRCRPython"
      ],
      "metadata": {
        "colab": {
          "base_uri": "https://localhost:8080/"
        },
        "id": "n2LeO3ph44JD",
        "outputId": "8e8f82bb-c539-4739-f347-8ffd4fc5e8e0"
      },
      "execution_count": 3,
      "outputs": [
        {
          "output_type": "stream",
          "name": "stdout",
          "text": [
            "/content/iANRCRPython\n"
          ]
        }
      ]
    },
    {
      "cell_type": "code",
      "source": [
        "!ls"
      ],
      "metadata": {
        "colab": {
          "base_uri": "https://localhost:8080/"
        },
        "id": "a-BQ7-eb488j",
        "outputId": "491f595e-3be8-4237-acc7-4d7d9003f5e5"
      },
      "execution_count": 4,
      "outputs": [
        {
          "output_type": "stream",
          "name": "stdout",
          "text": [
            "iANRCRDetect.py    imagetest1.jpg      LICENSE\t\t util\n",
            "iANRCR.py\t   imagetest1_out.jpg  model\t\t videoSample.py\n",
            "iANRCRSettings.py  imagetest2.jpg      README.md\n",
            "imageSample.py\t   imagetest2_out.jpg  requirements.txt\n"
          ]
        }
      ]
    },
    {
      "cell_type": "markdown",
      "source": [
        "Подключение модулей:"
      ],
      "metadata": {
        "id": "MMwVOD0V5wzb"
      }
    },
    {
      "cell_type": "code",
      "source": [
        "import iANRCR\n",
        "import iANRCRSettings\n",
        "\n",
        "import cv2\n",
        "import numpy as np"
      ],
      "metadata": {
        "id": "_RwRcosQ5z9s"
      },
      "execution_count": 5,
      "outputs": []
    },
    {
      "cell_type": "markdown",
      "source": [
        "Инициализация, загрузка тестового изображения и распознавание:"
      ],
      "metadata": {
        "id": "oVPejHWQ7kA8"
      }
    },
    {
      "cell_type": "code",
      "source": [
        "config = iANRCRSettings.iANRCRConfig()\n",
        "ia = iANRCR.iANRCR(config)"
      ],
      "metadata": {
        "id": "RkMs0P9T57kU"
      },
      "execution_count": 6,
      "outputs": []
    },
    {
      "cell_type": "code",
      "source": [
        "image = cv2.imread(\"imagetest1.jpg\")\n",
        "ia.process([image])"
      ],
      "metadata": {
        "id": "H-0I_-Mt7z2k"
      },
      "execution_count": 7,
      "outputs": []
    },
    {
      "cell_type": "markdown",
      "source": [
        "Результат:"
      ],
      "metadata": {
        "id": "fVkXah8c749E"
      }
    },
    {
      "cell_type": "code",
      "source": [
        "res = ia.get_numbers()[0]\n",
        "print('Номер',res[0][0])\n",
        "print('Уверенность',res[0][1])"
      ],
      "metadata": {
        "colab": {
          "base_uri": "https://localhost:8080/"
        },
        "id": "WdqefSMh76Zc",
        "outputId": "edbaca51-a9d4-4363-a36d-6a43264f8c6a"
      },
      "execution_count": 9,
      "outputs": [
        {
          "output_type": "stream",
          "name": "stdout",
          "text": [
            "Номер 56812266\n",
            "Уверенность 0.8960025832056999\n"
          ]
        }
      ]
    }
  ]
}